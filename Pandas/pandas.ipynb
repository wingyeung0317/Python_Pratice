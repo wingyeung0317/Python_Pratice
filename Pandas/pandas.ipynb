{
  "nbformat": 4,
  "nbformat_minor": 0,
  "metadata": {
    "colab": {
      "provenance": []
    },
    "kernelspec": {
      "name": "python3",
      "display_name": "Python 3"
    },
    "language_info": {
      "name": "python"
    }
  },
  "cells": [
    {
      "cell_type": "markdown",
      "source": [
        "Task 1:"
      ],
      "metadata": {
        "id": "4cVeAVnc5-WQ"
      }
    },
    {
      "cell_type": "code",
      "execution_count": null,
      "metadata": {
        "id": "VgDNRzii2MLs"
      },
      "outputs": [],
      "source": [
        "import pandas as pd\n",
        "stdInfo=pd.read_csv('example_students.csv')"
      ]
    },
    {
      "cell_type": "markdown",
      "source": [
        "Task 2:"
      ],
      "metadata": {
        "id": "J2tIyIRD6KKA"
      }
    },
    {
      "cell_type": "code",
      "source": [
        "print(stdInfo.loc[:, 'first':'last'])"
      ],
      "metadata": {
        "colab": {
          "base_uri": "https://localhost:8080/"
        },
        "id": "uwp0uQaC6Lga",
        "outputId": "11181e6f-f5b7-4b4f-f73a-74a4822a4aed"
      },
      "execution_count": null,
      "outputs": [
        {
          "output_type": "stream",
          "name": "stdout",
          "text": [
            "        first mi        last\n",
            "0    Mitchell  G       Perez\n",
            "1     Kathryn  R      Carter\n",
            "2       Daisy  C      Vaughn\n",
            "3     Stanley  U      Wright\n",
            "4         Amy  W     Schmidt\n",
            "5        Rose  M     Carlson\n",
            "6      Dennis  R     Houston\n",
            "7        Gene  D    Santiago\n",
            "8     Richard  Q       Ortiz\n",
            "9      Trevor  P     McBride\n",
            "10     Ronald  K       Watts\n",
            "11      Pearl  S       Curry\n",
            "12        Don  B       Owens\n",
            "13  Josephine  J    Gonzales\n",
            "14    Charles  I     Douglas\n",
            "15      Jason  S    Anderson\n",
            "16      Katie  A      Barker\n",
            "17   Beatrice  Z   Schneider\n",
            "18      Jason  Z      Duncan\n",
            "19      Belle  O      Abbott\n",
            "20   Isabella  Z      Austin\n",
            "21     Nellie  V   Singleton\n",
            "22     Herman  N    McDonald\n",
            "23      Barry  Q    Chambers\n",
            "24       Troy  G       Brown\n",
            "25     Virgie  W        Wood\n",
            "26    Dominic  P     Daniels\n",
            "27      Allie  B     Daniels\n",
            "28      Wayne  I    McDonald\n",
            "29     Arthur  G  Williamson\n",
            "30      Bryan  A      Brooks\n",
            "31    Phillip  Z      Jensen\n",
            "32     Miguel  D       Moran\n",
            "33      Harry  D       Silva\n",
            "34      Irene  X     Spencer\n",
            "35   Clarence  E       Frank\n",
            "36      Allen  B     Lambert\n",
            "37     Willie  S   Robertson\n",
            "38       Dora  F      Walker\n",
            "39     Hattie  L       Blake\n",
            "40     Samuel  Y        Neal\n",
            "41  Alejandro  D       Garza\n",
            "42     Jeremy  J      Steele\n",
            "43     Jordan  I       Perez\n",
            "44     Nannie  E     Hampton\n",
            "45   Harriett  Y    Anderson\n",
            "46     Herman  U      Phelps\n",
            "47       Glen  D       Garza\n",
            "48        Ida  C       Wolfe\n",
            "49    Kathryn  P    Johnston\n"
          ]
        }
      ]
    },
    {
      "cell_type": "markdown",
      "source": [
        "Task 3, 4, 5:"
      ],
      "metadata": {
        "id": "dG-w9_0c6T3w"
      }
    },
    {
      "cell_type": "code",
      "source": [
        "inputName = input('Enter the name. Leave it blank if search by age range.')\n",
        "i=-1\n",
        "user=0\n",
        "if inputName != '':\n",
        "  for fName in stdInfo['first']:\n",
        "    i+=1\n",
        "    if (fName.lower() == inputName.lower()):\n",
        "      print(f'{stdInfo.iloc[i]}\\n')\n",
        "      user=1\n",
        "else:\n",
        "  ageMin = input('Enter the min. age')\n",
        "  ageMax = input('Enter the max age')\n",
        "  for fAge in stdInfo['age']:\n",
        "    i+=1\n",
        "    if (int(fAge)>int(ageMin) and int(fAge)<int(ageMax)):\n",
        "      print(f'{stdInfo.iloc[i]}\\n')\n",
        "      user=1\n",
        "if user!=1:\n",
        "  print('User is not found')"
      ],
      "metadata": {
        "colab": {
          "base_uri": "https://localhost:8080/"
        },
        "id": "xWTucLw36WY2",
        "outputId": "f27007d0-cb1e-4aa4-de5b-ae00b96985de"
      },
      "execution_count": null,
      "outputs": [
        {
          "output_type": "stream",
          "name": "stdout",
          "text": [
            "Enter the name. Leave it blank if search by age range.\n",
            "Enter the min. age55\n",
            "Enter the max age60\n",
            "first                                     Stanley\n",
            "mi                                              U\n",
            "last                                       Wright\n",
            "age                                            58\n",
            "guid         6f2c2b75-df73-5ad2-b73d-78e6704f85c9\n",
            "natural                                         0\n",
            "natural.1                                       4\n",
            "Name: 3, dtype: object\n",
            "\n",
            "first                                     Charles\n",
            "mi                                              I\n",
            "last                                      Douglas\n",
            "age                                            57\n",
            "guid         a2a8217e-640a-5340-8570-d016a8412e5b\n",
            "natural                                         0\n",
            "natural.1                                       3\n",
            "Name: 14, dtype: object\n",
            "\n"
          ]
        }
      ]
    }
  ]
}